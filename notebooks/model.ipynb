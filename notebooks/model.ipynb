{
 "cells": [
  {
   "cell_type": "code",
   "execution_count": 49,
   "metadata": {},
   "outputs": [],
   "source": [
    "%reload_ext autoreload\n",
    "%autoreload 2\n",
    "import sys\n",
    "sys.path.insert(0, \"../\")"
   ]
  },
  {
   "cell_type": "code",
   "execution_count": 50,
   "metadata": {},
   "outputs": [],
   "source": [
    "# Env configs\n",
    "from utils.librosa_cache import * \n",
    "enable_cache()"
   ]
  },
  {
   "cell_type": "code",
   "execution_count": 51,
   "metadata": {},
   "outputs": [],
   "source": [
    "import numpy as np \n",
    "import pandas as pd\n",
    "import matplotlib.pyplot as plt\n",
    "\n",
    "import librosa\n",
    "from librosa.display import specshow\n",
    "from tensorflow.keras import layers, models, losses\n",
    "\n",
    "from utils.constants import *\n",
    "from utils.read_audio import *\n",
    "\n",
    "from layers.cqt import *\n",
    "from layers.harmonic_stacking import *\n",
    "from models.transcriber import *"
   ]
  },
  {
   "cell_type": "code",
   "execution_count": 52,
   "metadata": {},
   "outputs": [
    {
     "name": "stderr",
     "output_type": "stream",
     "text": [
      "c:\\Users\\JOAQUIN DELA ROSA\\anaconda3\\envs\\tfgpu\\lib\\site-packages\\librosa\\util\\decorators.py:88: UserWarning: PySoundFile failed. Trying audioread instead.\n",
      "  return f(*args, **kwargs)\n"
     ]
    },
    {
     "data": {
      "text/plain": [
       "array([0., 0., 0., ..., 0., 0., 0.], dtype=float32)"
      ]
     },
     "execution_count": 52,
     "metadata": {},
     "output_type": "execute_result"
    }
   ],
   "source": [
    "# Load the data\n",
    "\n",
    "data, sr = read_file(\"../data/song.mp3\")\n",
    "data"
   ]
  },
  {
   "cell_type": "code",
   "execution_count": 82,
   "metadata": {},
   "outputs": [
    {
     "data": {
      "text/plain": [
       "(2, 9661440)"
      ]
     },
     "execution_count": 82,
     "metadata": {},
     "output_type": "execute_result"
    }
   ],
   "source": [
    "input_data = np.array([data, data])\n",
    "input_data.shape"
   ]
  },
  {
   "cell_type": "code",
   "execution_count": 95,
   "metadata": {},
   "outputs": [
    {
     "name": "stderr",
     "output_type": "stream",
     "text": [
      "[autoreload of layers.cqt failed: Traceback (most recent call last):\n",
      "  File \"c:\\Users\\JOAQUIN DELA ROSA\\anaconda3\\envs\\tfgpu\\lib\\site-packages\\IPython\\extensions\\autoreload.py\", line 257, in check\n",
      "    superreload(m, reload, self.old_objects)\n",
      "  File \"c:\\Users\\JOAQUIN DELA ROSA\\anaconda3\\envs\\tfgpu\\lib\\site-packages\\IPython\\extensions\\autoreload.py\", line 480, in superreload\n",
      "    update_generic(old_obj, new_obj)\n",
      "  File \"c:\\Users\\JOAQUIN DELA ROSA\\anaconda3\\envs\\tfgpu\\lib\\site-packages\\IPython\\extensions\\autoreload.py\", line 377, in update_generic\n",
      "    update(a, b)\n",
      "  File \"c:\\Users\\JOAQUIN DELA ROSA\\anaconda3\\envs\\tfgpu\\lib\\site-packages\\IPython\\extensions\\autoreload.py\", line 329, in update_class\n",
      "    if update_generic(old_obj, new_obj):\n",
      "  File \"c:\\Users\\JOAQUIN DELA ROSA\\anaconda3\\envs\\tfgpu\\lib\\site-packages\\IPython\\extensions\\autoreload.py\", line 377, in update_generic\n",
      "    update(a, b)\n",
      "  File \"c:\\Users\\JOAQUIN DELA ROSA\\anaconda3\\envs\\tfgpu\\lib\\site-packages\\IPython\\extensions\\autoreload.py\", line 289, in update_function\n",
      "    setattr(old, name, getattr(new, name))\n",
      "ValueError: call() requires a code object with 1 free vars, not 0\n",
      "]\n"
     ]
    }
   ],
   "source": [
    "# Test if model works\n",
    "model = Transcriber(input_data.shape, [i for i in range(1, 8)])"
   ]
  },
  {
   "cell_type": "code",
   "execution_count": 87,
   "metadata": {},
   "outputs": [
    {
     "name": "stdout",
     "output_type": "stream",
     "text": [
      "Model: \"model_4\"\n",
      "_________________________________________________________________\n",
      "Layer (type)                 Output Shape              Param #   \n",
      "=================================================================\n",
      "input_21 (InputLayer)        [(1, 2, 9661440)]         0         \n",
      "=================================================================\n",
      "Total params: 0\n",
      "Trainable params: 0\n",
      "Non-trainable params: 0\n",
      "_________________________________________________________________\n"
     ]
    }
   ],
   "source": [
    "model.summary()"
   ]
  },
  {
   "cell_type": "code",
   "execution_count": 16,
   "metadata": {},
   "outputs": [
    {
     "name": "stderr",
     "output_type": "stream",
     "text": [
      "WARNING:root:[Memory(location=None)]: Flushing completely the cache\n"
     ]
    }
   ],
   "source": [
    "purge_cache()"
   ]
  }
 ],
 "metadata": {
  "kernelspec": {
   "display_name": "tfgpu",
   "language": "python",
   "name": "python3"
  },
  "language_info": {
   "codemirror_mode": {
    "name": "ipython",
    "version": 3
   },
   "file_extension": ".py",
   "mimetype": "text/x-python",
   "name": "python",
   "nbconvert_exporter": "python",
   "pygments_lexer": "ipython3",
   "version": "3.9.13"
  },
  "orig_nbformat": 4,
  "vscode": {
   "interpreter": {
    "hash": "86ffb8cd15e50cb3c3e2c8640421c5f15b79eb6c760510113e4a090e97faea88"
   }
  }
 },
 "nbformat": 4,
 "nbformat_minor": 2
}
