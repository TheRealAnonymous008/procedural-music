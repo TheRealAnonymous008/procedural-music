{
 "cells": [
  {
   "cell_type": "code",
   "execution_count": 1,
   "metadata": {},
   "outputs": [],
   "source": [
    "%reload_ext autoreload\n",
    "%autoreload 2\n",
    "import sys\n",
    "sys.path.insert(0, \"../\")"
   ]
  },
  {
   "cell_type": "code",
   "execution_count": 2,
   "metadata": {},
   "outputs": [],
   "source": [
    "# Env configs\n",
    "from utils.librosa_cache import * \n",
    "enable_cache()"
   ]
  },
  {
   "cell_type": "code",
   "execution_count": 3,
   "metadata": {},
   "outputs": [],
   "source": [
    "import numpy as np \n",
    "import pandas as pd\n",
    "import matplotlib.pyplot as plt\n",
    "\n",
    "import librosa\n",
    "from librosa.display import specshow\n",
    "from tensorflow.keras import layers, models, losses\n",
    "\n",
    "from utils.constants import *\n",
    "from utils.read_audio import *\n",
    "\n",
    "from layers.cqt import *\n",
    "from layers.harmonic_stacking import *\n",
    "from models.transcriber import *"
   ]
  },
  {
   "cell_type": "code",
   "execution_count": 4,
   "metadata": {},
   "outputs": [
    {
     "name": "stderr",
     "output_type": "stream",
     "text": [
      "c:\\Users\\JOAQUIN DELA ROSA\\anaconda3\\envs\\tfgpu\\lib\\site-packages\\librosa\\util\\decorators.py:88: UserWarning: PySoundFile failed. Trying audioread instead.\n",
      "  return f(*args, **kwargs)\n"
     ]
    },
    {
     "data": {
      "text/plain": [
       "array([0., 0., 0., ..., 0., 0., 0.], dtype=float32)"
      ]
     },
     "execution_count": 4,
     "metadata": {},
     "output_type": "execute_result"
    }
   ],
   "source": [
    "# Load the data\n",
    "\n",
    "data, sr = read_file(\"../data/song.mp3\")\n",
    "data"
   ]
  },
  {
   "cell_type": "code",
   "execution_count": 16,
   "metadata": {},
   "outputs": [
    {
     "data": {
      "text/plain": [
       "(9661440,)"
      ]
     },
     "execution_count": 16,
     "metadata": {},
     "output_type": "execute_result"
    }
   ],
   "source": [
    "input_data = np.array(data)\n",
    "input_data.shape"
   ]
  },
  {
   "cell_type": "code",
   "execution_count": 29,
   "metadata": {},
   "outputs": [],
   "source": [
    "# Test if model works.\n",
    "tf.config.run_functions_eagerly(True)\n",
    "model = Transcriber([i for i in range(1, 8)])\n",
    "model.compile(optimizer=\"adam\", loss=losses.binary_crossentropy, run_eagerly=True)"
   ]
  },
  {
   "cell_type": "code",
   "execution_count": 31,
   "metadata": {},
   "outputs": [
    {
     "data": {
      "text/plain": [
       "<tf.Tensor: shape=(1, 252, 18871, 7), dtype=float32, numpy=\n",
       "array([[[[4.11131157e-04, 5.35047233e-01, 5.64900219e-01, ...,\n",
       "          5.59645593e-01, 2.46259645e-01, 2.29309514e-01],\n",
       "         [7.98508117e-04, 5.22839367e-01, 5.76051831e-01, ...,\n",
       "          5.67786992e-01, 2.50845045e-01, 2.28353575e-01],\n",
       "         [7.80851697e-04, 5.08685112e-01, 5.86913109e-01, ...,\n",
       "          5.73150218e-01, 2.53588855e-01, 2.26790309e-01],\n",
       "         ...,\n",
       "         [4.23298798e-06, 0.00000000e+00, 0.00000000e+00, ...,\n",
       "          0.00000000e+00, 0.00000000e+00, 0.00000000e+00],\n",
       "         [4.11527844e-06, 0.00000000e+00, 0.00000000e+00, ...,\n",
       "          0.00000000e+00, 0.00000000e+00, 0.00000000e+00],\n",
       "         [4.01343823e-06, 0.00000000e+00, 0.00000000e+00, ...,\n",
       "          0.00000000e+00, 0.00000000e+00, 0.00000000e+00]],\n",
       "\n",
       "        [[1.77128983e-04, 4.62389171e-01, 4.65670973e-01, ...,\n",
       "          4.69662935e-01, 3.02293777e-01, 4.33449708e-02],\n",
       "         [2.79542379e-04, 4.49169576e-01, 4.79034960e-01, ...,\n",
       "          4.72433627e-01, 3.10062647e-01, 4.01590466e-02],\n",
       "         [2.72797508e-04, 4.35170650e-01, 4.92078543e-01, ...,\n",
       "          4.74353611e-01, 3.17713439e-01, 3.82191166e-02],\n",
       "         ...,\n",
       "         [3.65213759e-06, 0.00000000e+00, 0.00000000e+00, ...,\n",
       "          0.00000000e+00, 0.00000000e+00, 0.00000000e+00],\n",
       "         [3.56561372e-06, 0.00000000e+00, 0.00000000e+00, ...,\n",
       "          0.00000000e+00, 0.00000000e+00, 0.00000000e+00],\n",
       "         [3.47780701e-06, 0.00000000e+00, 0.00000000e+00, ...,\n",
       "          0.00000000e+00, 0.00000000e+00, 0.00000000e+00]],\n",
       "\n",
       "        [[1.62073396e-04, 3.02303165e-01, 3.64326775e-01, ...,\n",
       "          3.48437130e-01, 3.36010724e-01, 1.72254503e-01],\n",
       "         [2.21031412e-04, 2.94125676e-01, 3.69549930e-01, ...,\n",
       "          3.39954734e-01, 3.37075263e-01, 1.67689741e-01],\n",
       "         [4.54859488e-04, 2.86471695e-01, 3.74284357e-01, ...,\n",
       "          3.32362235e-01, 3.36944759e-01, 1.63173020e-01],\n",
       "         ...,\n",
       "         [4.69874976e-06, 0.00000000e+00, 0.00000000e+00, ...,\n",
       "          0.00000000e+00, 0.00000000e+00, 0.00000000e+00],\n",
       "         [4.53968323e-06, 0.00000000e+00, 0.00000000e+00, ...,\n",
       "          0.00000000e+00, 0.00000000e+00, 0.00000000e+00],\n",
       "         [4.36870187e-06, 0.00000000e+00, 0.00000000e+00, ...,\n",
       "          0.00000000e+00, 0.00000000e+00, 0.00000000e+00]],\n",
       "\n",
       "        ...,\n",
       "\n",
       "        [[0.00000000e+00, 2.54311394e-02, 2.68858615e-02, ...,\n",
       "          4.33977582e-02, 4.68612313e-02, 1.89511314e-01],\n",
       "         [0.00000000e+00, 1.86617617e-02, 2.95055266e-02, ...,\n",
       "          8.01776163e-03, 4.87068035e-02, 1.14821434e-01],\n",
       "         [0.00000000e+00, 3.82020907e-03, 4.36005369e-03, ...,\n",
       "          3.73933688e-02, 2.40579862e-02, 3.43512893e-01],\n",
       "         ...,\n",
       "         [0.00000000e+00, 0.00000000e+00, 0.00000000e+00, ...,\n",
       "          0.00000000e+00, 0.00000000e+00, 0.00000000e+00],\n",
       "         [0.00000000e+00, 0.00000000e+00, 0.00000000e+00, ...,\n",
       "          0.00000000e+00, 0.00000000e+00, 0.00000000e+00],\n",
       "         [0.00000000e+00, 0.00000000e+00, 0.00000000e+00, ...,\n",
       "          0.00000000e+00, 0.00000000e+00, 0.00000000e+00]],\n",
       "\n",
       "        [[0.00000000e+00, 4.17619012e-02, 1.96178667e-02, ...,\n",
       "          4.33244668e-02, 2.85235625e-02, 8.03265944e-02],\n",
       "         [0.00000000e+00, 3.54587808e-02, 3.37526612e-02, ...,\n",
       "          1.09292194e-02, 3.20413336e-02, 8.05641338e-02],\n",
       "         [0.00000000e+00, 1.34535758e-02, 3.35678607e-02, ...,\n",
       "          5.19086123e-02, 2.14127209e-02, 1.32754549e-01],\n",
       "         ...,\n",
       "         [0.00000000e+00, 0.00000000e+00, 0.00000000e+00, ...,\n",
       "          0.00000000e+00, 0.00000000e+00, 0.00000000e+00],\n",
       "         [0.00000000e+00, 0.00000000e+00, 0.00000000e+00, ...,\n",
       "          0.00000000e+00, 0.00000000e+00, 0.00000000e+00],\n",
       "         [0.00000000e+00, 0.00000000e+00, 0.00000000e+00, ...,\n",
       "          0.00000000e+00, 0.00000000e+00, 0.00000000e+00]],\n",
       "\n",
       "        [[0.00000000e+00, 3.09009030e-02, 3.48721147e-02, ...,\n",
       "          4.30605523e-02, 3.55451964e-02, 7.68337399e-02],\n",
       "         [0.00000000e+00, 3.23327966e-02, 2.53236126e-02, ...,\n",
       "          2.46295966e-02, 3.71041708e-02, 8.93595591e-02],\n",
       "         [0.00000000e+00, 1.58679839e-02, 3.24723013e-02, ...,\n",
       "          4.08898368e-02, 3.39201391e-02, 1.11469058e-02],\n",
       "         ...,\n",
       "         [0.00000000e+00, 0.00000000e+00, 0.00000000e+00, ...,\n",
       "          0.00000000e+00, 0.00000000e+00, 0.00000000e+00],\n",
       "         [0.00000000e+00, 0.00000000e+00, 0.00000000e+00, ...,\n",
       "          0.00000000e+00, 0.00000000e+00, 0.00000000e+00],\n",
       "         [0.00000000e+00, 0.00000000e+00, 0.00000000e+00, ...,\n",
       "          0.00000000e+00, 0.00000000e+00, 0.00000000e+00]]]],\n",
       "      dtype=float32)>"
      ]
     },
     "execution_count": 31,
     "metadata": {},
     "output_type": "execute_result"
    }
   ],
   "source": [
    "model(input_data)"
   ]
  },
  {
   "cell_type": "code",
   "execution_count": 8,
   "metadata": {},
   "outputs": [
    {
     "name": "stdout",
     "output_type": "stream",
     "text": [
      "Model: \"transcriber\"\n",
      "_________________________________________________________________\n",
      "Layer (type)                 Output Shape              Param #   \n",
      "=================================================================\n",
      "cqt (CQT)                    multiple                  0         \n",
      "_________________________________________________________________\n",
      "harmonic_stacking (HarmonicS multiple                  0 (unused)\n",
      "_________________________________________________________________\n",
      "dense (Dense)                multiple                  18872     \n",
      "=================================================================\n",
      "Total params: 18,872\n",
      "Trainable params: 18,872\n",
      "Non-trainable params: 0\n",
      "_________________________________________________________________\n"
     ]
    }
   ],
   "source": [
    "model.summary()"
   ]
  },
  {
   "cell_type": "code",
   "execution_count": 9,
   "metadata": {},
   "outputs": [
    {
     "name": "stderr",
     "output_type": "stream",
     "text": [
      "WARNING:root:[Memory(location=None)]: Flushing completely the cache\n"
     ]
    }
   ],
   "source": [
    "purge_cache()"
   ]
  }
 ],
 "metadata": {
  "kernelspec": {
   "display_name": "tfgpu",
   "language": "python",
   "name": "python3"
  },
  "language_info": {
   "codemirror_mode": {
    "name": "ipython",
    "version": 3
   },
   "file_extension": ".py",
   "mimetype": "text/x-python",
   "name": "python",
   "nbconvert_exporter": "python",
   "pygments_lexer": "ipython3",
   "version": "3.9.13"
  },
  "orig_nbformat": 4,
  "vscode": {
   "interpreter": {
    "hash": "86ffb8cd15e50cb3c3e2c8640421c5f15b79eb6c760510113e4a090e97faea88"
   }
  }
 },
 "nbformat": 4,
 "nbformat_minor": 2
}
