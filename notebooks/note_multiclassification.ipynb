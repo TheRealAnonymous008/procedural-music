{
 "cells": [
  {
   "attachments": {},
   "cell_type": "markdown",
   "metadata": {},
   "source": [
    "# Task\n",
    "\n",
    "Inputs: The power spectrum of an audio clip at a particular time.\n",
    "The size of window is determined by the number of samples inside a quanta.\n",
    "\n",
    "Outputs: An 88-dimensional vector, containing probabilities of whether or not a particular note was played."
   ]
  },
  {
   "cell_type": "code",
   "execution_count": 2,
   "metadata": {},
   "outputs": [],
   "source": [
    "import tensorflow as tf \n",
    "from tensorflow.keras import layers, models, metrics\n",
    "\n",
    "import numpy as np \n",
    "import scipy as sp "
   ]
  },
  {
   "cell_type": "code",
   "execution_count": 3,
   "metadata": {},
   "outputs": [],
   "source": [
    "%load_ext autoreload\n",
    "%autoreload 2\n",
    "import sys\n",
    "sys.path.insert(0, \"../\")\n",
    "\n",
    "import midiio\n",
    "import frequency_analysis as frqa"
   ]
  },
  {
   "attachments": {},
   "cell_type": "markdown",
   "metadata": {},
   "source": [
    "## Preprocessing step"
   ]
  },
  {
   "cell_type": "code",
   "execution_count": null,
   "metadata": {},
   "outputs": [],
   "source": [
    "# Open the midifile to see what is inside\n",
    "\n",
    "midi_file = midiio.read_file('../data/musicnet/1227.wav')"
   ]
  }
 ],
 "metadata": {
  "kernelspec": {
   "display_name": "tfgpu",
   "language": "python",
   "name": "python3"
  },
  "language_info": {
   "codemirror_mode": {
    "name": "ipython",
    "version": 3
   },
   "file_extension": ".py",
   "mimetype": "text/x-python",
   "name": "python",
   "nbconvert_exporter": "python",
   "pygments_lexer": "ipython3",
   "version": "3.9.13"
  },
  "orig_nbformat": 4,
  "vscode": {
   "interpreter": {
    "hash": "86ffb8cd15e50cb3c3e2c8640421c5f15b79eb6c760510113e4a090e97faea88"
   }
  }
 },
 "nbformat": 4,
 "nbformat_minor": 2
}
