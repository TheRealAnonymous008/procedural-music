{
 "cells": [
  {
   "cell_type": "code",
   "execution_count": 1,
   "metadata": {},
   "outputs": [],
   "source": [
    "\n",
    "import numpy as np \n",
    "import pandas as pd\n",
    "import matplotlib.pyplot as plt\n",
    "\n",
    "import librosa\n",
    "from librosa.display import specshow"
   ]
  },
  {
   "cell_type": "code",
   "execution_count": 2,
   "metadata": {},
   "outputs": [],
   "source": [
    "%reload_ext autoreload\n",
    "%autoreload 2"
   ]
  },
  {
   "cell_type": "code",
   "execution_count": 4,
   "metadata": {},
   "outputs": [],
   "source": [
    "%reload_ext autoreload\n",
    "%autoreload 2\n",
    "import sys\n",
    "sys.path.insert(0, \"../\")\n",
    "\n",
    "from utils.constants import *\n",
    "from utils.read_audio import *\n",
    "\n",
    "from layers.hcqt import *"
   ]
  },
  {
   "attachments": {},
   "cell_type": "markdown",
   "metadata": {},
   "source": [
    "## CQT (Constant Q-Transform)"
   ]
  },
  {
   "cell_type": "code",
   "execution_count": 5,
   "metadata": {},
   "outputs": [
    {
     "name": "stderr",
     "output_type": "stream",
     "text": [
      "c:\\Users\\JOAQUIN DELA ROSA\\anaconda3\\envs\\tfgpu\\lib\\site-packages\\librosa\\util\\decorators.py:88: UserWarning: PySoundFile failed. Trying audioread instead.\n",
      "  return f(*args, **kwargs)\n"
     ]
    },
    {
     "data": {
      "text/plain": [
       "array([0., 0., 0., ..., 0., 0., 0.], dtype=float32)"
      ]
     },
     "execution_count": 5,
     "metadata": {},
     "output_type": "execute_result"
    }
   ],
   "source": [
    "# Load the data\n",
    "\n",
    "data, sr = read_file(\"../data/song.mp3\")\n",
    "data"
   ]
  },
  {
   "cell_type": "code",
   "execution_count": 6,
   "metadata": {},
   "outputs": [
    {
     "ename": "TypeError",
     "evalue": "op needs to be an Operation: tf.Tensor(\n[[6.1786582e-04 8.4579404e-04 7.6380867e-04 ... 4.3732439e-06\n  4.2207134e-06 4.1051603e-06]\n [2.4418530e-04 2.5981769e-04 2.1033565e-04 ... 3.7138354e-06\n  3.6319639e-06 3.5473111e-06]\n [1.5447462e-04 1.9724590e-04 4.1355140e-04 ... 4.8131683e-06\n  4.6549699e-06 4.4988956e-06]\n ...\n [0.0000000e+00 0.0000000e+00 0.0000000e+00 ... 0.0000000e+00\n  0.0000000e+00 0.0000000e+00]\n [0.0000000e+00 0.0000000e+00 0.0000000e+00 ... 0.0000000e+00\n  0.0000000e+00 0.0000000e+00]\n [0.0000000e+00 0.0000000e+00 0.0000000e+00 ... 0.0000000e+00\n  0.0000000e+00 0.0000000e+00]], shape=(252, 19962), dtype=float32)",
     "output_type": "error",
     "traceback": [
      "\u001b[1;31m---------------------------------------------------------------------------\u001b[0m",
      "\u001b[1;31mTypeError\u001b[0m                                 Traceback (most recent call last)",
      "\u001b[1;32mc:\\Users\\JOAQUIN DELA ROSA\\OneDrive\\Desktop\\Personal\\procedural-music\\notebooks\\audio-eda.ipynb Cell 6\u001b[0m in \u001b[0;36m<cell line: 2>\u001b[1;34m()\u001b[0m\n\u001b[0;32m      <a href='vscode-notebook-cell:/c%3A/Users/JOAQUIN%20DELA%20ROSA/OneDrive/Desktop/Personal/procedural-music/notebooks/audio-eda.ipynb#W5sZmlsZQ%3D%3D?line=0'>1</a>\u001b[0m cqt \u001b[39m=\u001b[39m CQT()\n\u001b[1;32m----> <a href='vscode-notebook-cell:/c%3A/Users/JOAQUIN%20DELA%20ROSA/OneDrive/Desktop/Personal/procedural-music/notebooks/audio-eda.ipynb#W5sZmlsZQ%3D%3D?line=1'>2</a>\u001b[0m cqt_results \u001b[39m=\u001b[39m cqt(data)\n",
      "File \u001b[1;32mc:\\Users\\JOAQUIN DELA ROSA\\anaconda3\\envs\\tfgpu\\lib\\site-packages\\keras\\engine\\base_layer.py:1037\u001b[0m, in \u001b[0;36mLayer.__call__\u001b[1;34m(self, *args, **kwargs)\u001b[0m\n\u001b[0;32m   1033\u001b[0m   inputs \u001b[39m=\u001b[39m \u001b[39mself\u001b[39m\u001b[39m.\u001b[39m_maybe_cast_inputs(inputs, input_list)\n\u001b[0;32m   1035\u001b[0m \u001b[39mwith\u001b[39;00m autocast_variable\u001b[39m.\u001b[39menable_auto_cast_variables(\n\u001b[0;32m   1036\u001b[0m     \u001b[39mself\u001b[39m\u001b[39m.\u001b[39m_compute_dtype_object):\n\u001b[1;32m-> 1037\u001b[0m   outputs \u001b[39m=\u001b[39m call_fn(inputs, \u001b[39m*\u001b[39margs, \u001b[39m*\u001b[39m\u001b[39m*\u001b[39mkwargs)\n\u001b[0;32m   1039\u001b[0m \u001b[39mif\u001b[39;00m \u001b[39mself\u001b[39m\u001b[39m.\u001b[39m_activity_regularizer:\n\u001b[0;32m   1040\u001b[0m   \u001b[39mself\u001b[39m\u001b[39m.\u001b[39m_handle_activity_regularization(inputs, outputs)\n",
      "File \u001b[1;32mc:\\Users\\JOAQUIN DELA ROSA\\OneDrive\\Desktop\\Personal\\procedural-music\\notebooks\\..\\layers\\hcqt.py:55\u001b[0m, in \u001b[0;36mCQT.call\u001b[1;34m(self, inputs)\u001b[0m\n\u001b[0;32m     46\u001b[0m hop_length \u001b[39m=\u001b[39m hop_length \u001b[39m-\u001b[39m (hop_length \u001b[39m%\u001b[39m \u001b[39m4\u001b[39m)\n\u001b[0;32m     48\u001b[0m cqt_results \u001b[39m=\u001b[39m tf\u001b[39m.\u001b[39mabs(librosa\u001b[39m.\u001b[39mcqt(\n\u001b[0;32m     49\u001b[0m     np\u001b[39m.\u001b[39marray(inputs), \n\u001b[0;32m     50\u001b[0m     sr\u001b[39m=\u001b[39m\u001b[39mself\u001b[39m\u001b[39m.\u001b[39msr, \n\u001b[0;32m     51\u001b[0m     hop_length\u001b[39m=\u001b[39mhop_length, \n\u001b[0;32m     52\u001b[0m     n_bins\u001b[39m=\u001b[39m\u001b[39mself\u001b[39m\u001b[39m.\u001b[39mbins_per_semitone \u001b[39m*\u001b[39m \u001b[39mself\u001b[39m\u001b[39m.\u001b[39mn_octaves \u001b[39m*\u001b[39m \u001b[39m12\u001b[39m, \n\u001b[0;32m     53\u001b[0m     bins_per_octave\u001b[39m=\u001b[39m\u001b[39mself\u001b[39m\u001b[39m.\u001b[39mbins_per_semitone \u001b[39m*\u001b[39m \u001b[39m12\u001b[39m))\n\u001b[1;32m---> 55\u001b[0m \u001b[39mreturn\u001b[39;00m tf\u001b[39m.\u001b[39;49mTensor(cqt_results, value_index\u001b[39m=\u001b[39;49m\u001b[39m0\u001b[39;49m, dtype\u001b[39m=\u001b[39;49mtf\u001b[39m.\u001b[39;49mfloat32)\n",
      "File \u001b[1;32mc:\\Users\\JOAQUIN DELA ROSA\\anaconda3\\envs\\tfgpu\\lib\\site-packages\\tensorflow\\python\\framework\\ops.py:378\u001b[0m, in \u001b[0;36mTensor.__init__\u001b[1;34m(self, op, value_index, dtype)\u001b[0m\n\u001b[0;32m    366\u001b[0m \u001b[39m\"\"\"Creates a new `Tensor`.\u001b[39;00m\n\u001b[0;32m    367\u001b[0m \n\u001b[0;32m    368\u001b[0m \u001b[39mArgs:\u001b[39;00m\n\u001b[1;32m   (...)\u001b[0m\n\u001b[0;32m    375\u001b[0m \u001b[39m  TypeError: If the op is not an `Operation`.\u001b[39;00m\n\u001b[0;32m    376\u001b[0m \u001b[39m\"\"\"\u001b[39;00m\n\u001b[0;32m    377\u001b[0m \u001b[39mif\u001b[39;00m \u001b[39mnot\u001b[39;00m \u001b[39misinstance\u001b[39m(op, Operation):\n\u001b[1;32m--> 378\u001b[0m   \u001b[39mraise\u001b[39;00m \u001b[39mTypeError\u001b[39;00m(\u001b[39m\"\u001b[39m\u001b[39mop needs to be an Operation: \u001b[39m\u001b[39m%s\u001b[39;00m\u001b[39m\"\u001b[39m \u001b[39m%\u001b[39m (op,))\n\u001b[0;32m    379\u001b[0m \u001b[39mself\u001b[39m\u001b[39m.\u001b[39m_op \u001b[39m=\u001b[39m op\n\u001b[0;32m    380\u001b[0m \u001b[39mself\u001b[39m\u001b[39m.\u001b[39m_value_index \u001b[39m=\u001b[39m value_index\n",
      "\u001b[1;31mTypeError\u001b[0m: op needs to be an Operation: tf.Tensor(\n[[6.1786582e-04 8.4579404e-04 7.6380867e-04 ... 4.3732439e-06\n  4.2207134e-06 4.1051603e-06]\n [2.4418530e-04 2.5981769e-04 2.1033565e-04 ... 3.7138354e-06\n  3.6319639e-06 3.5473111e-06]\n [1.5447462e-04 1.9724590e-04 4.1355140e-04 ... 4.8131683e-06\n  4.6549699e-06 4.4988956e-06]\n ...\n [0.0000000e+00 0.0000000e+00 0.0000000e+00 ... 0.0000000e+00\n  0.0000000e+00 0.0000000e+00]\n [0.0000000e+00 0.0000000e+00 0.0000000e+00 ... 0.0000000e+00\n  0.0000000e+00 0.0000000e+00]\n [0.0000000e+00 0.0000000e+00 0.0000000e+00 ... 0.0000000e+00\n  0.0000000e+00 0.0000000e+00]], shape=(252, 19962), dtype=float32)"
     ]
    }
   ],
   "source": [
    "cqt = CQT()\n",
    "cqt_results = cqt(data)"
   ]
  },
  {
   "cell_type": "code",
   "execution_count": null,
   "metadata": {},
   "outputs": [],
   "source": [
    "specshow(librosa.amplitude_to_db(cqt_results, ref=np.max))"
   ]
  },
  {
   "cell_type": "code",
   "execution_count": null,
   "metadata": {},
   "outputs": [],
   "source": [
    "hcqt_results = np.array([cqt_results for x in range(0, HARMONICS_COUNT)])\n",
    "\n",
    "hcqt_results.shape"
   ]
  }
 ],
 "metadata": {
  "kernelspec": {
   "display_name": "tfgpu",
   "language": "python",
   "name": "python3"
  },
  "language_info": {
   "codemirror_mode": {
    "name": "ipython",
    "version": 3
   },
   "file_extension": ".py",
   "mimetype": "text/x-python",
   "name": "python",
   "nbconvert_exporter": "python",
   "pygments_lexer": "ipython3",
   "version": "3.9.13"
  },
  "orig_nbformat": 4,
  "vscode": {
   "interpreter": {
    "hash": "86ffb8cd15e50cb3c3e2c8640421c5f15b79eb6c760510113e4a090e97faea88"
   }
  }
 },
 "nbformat": 4,
 "nbformat_minor": 2
}
